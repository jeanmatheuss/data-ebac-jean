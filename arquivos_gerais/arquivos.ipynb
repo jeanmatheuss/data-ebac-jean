#Arquivos gerais usado no durante o curso para aprender como funciona o Github
